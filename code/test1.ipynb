{
 "cells": [
  {
   "cell_type": "code",
   "execution_count": null,
   "metadata": {},
   "outputs": [],
   "source": [
    "from crewai import Agent, Task, Crew, Process\n",
    "\n",
    "# Define your agents with roles and objectives\n",
    "presidente = Agent(\n",
    "    role='Prime Minister',\n",
    "    goal='Lead the government and coordinate government policies',\n",
    ")\n",
    "\n",
    "ministro_interno = Agent(\n",
    "    role='Minister of the Interior',\n",
    "    goal='Manage the country\\'s internal affairs, such as public safety and internal order',\n",
    ")\n",
    "\n",
    "ministro_esteri = Agent(\n",
    "    role='Minister of Foreign Affairs',\n",
    "    goal='Manage the country\\'s international relations',\n",
    ")\n",
    "\n",
    "# Create a crew with your agents\n",
    "governo = Crew(agents=[presidente, ministro_interno, ministro_esteri])\n",
    "\n",
    "# Define a process for your crew\n",
    "processo = Process(\n",
    "    name='Government decision-making process',\n",
    "    crew=governo,\n",
    "    tasks=[\n",
    "        Task(agent=presidente, action='coordinate'),\n",
    "        Task(agent=ministro_interno, action='manage'),\n",
    "        Task(agent=ministro_esteri, action='negotiate'),\n",
    "    ]\n",
    ")\n",
    "\n",
    "# Start the process\n",
    "processo.start()"
   ]
  }
 ],
 "metadata": {
  "language_info": {
   "name": "python"
  }
 },
 "nbformat": 4,
 "nbformat_minor": 2
}
